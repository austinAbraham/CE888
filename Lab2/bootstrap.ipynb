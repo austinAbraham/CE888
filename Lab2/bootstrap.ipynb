{
  "nbformat": 4,
  "nbformat_minor": 0,
  "metadata": {
    "colab": {
      "name": "bootstrap.ipynb",
      "provenance": [],
      "toc_visible": true,
      "include_colab_link": true
    },
    "kernelspec": {
      "display_name": "Python 3",
      "language": "python",
      "name": "python3"
    },
    "language_info": {
      "codemirror_mode": {
        "name": "ipython",
        "version": 3
      },
      "file_extension": ".py",
      "mimetype": "text/x-python",
      "name": "python",
      "nbconvert_exporter": "python",
      "pygments_lexer": "ipython3",
      "version": "3.7.6"
    },
    "pycharm": {
      "stem_cell": {
        "cell_type": "raw",
        "metadata": {
          "collapsed": false
        },
        "source": []
      }
    }
  },
  "cells": [
    {
      "cell_type": "markdown",
      "metadata": {
        "id": "view-in-github",
        "colab_type": "text"
      },
      "source": [
        "<a href=\"https://colab.research.google.com/github/austinAbraham/CE888/blob/development/Lab2/bootstrap.ipynb\" target=\"_parent\"><img src=\"https://colab.research.google.com/assets/colab-badge.svg\" alt=\"Open In Colab\"/></a>"
      ]
    },
    {
      "cell_type": "markdown",
      "metadata": {
        "id": "nCi_99yMYIb1"
      },
      "source": [
        "In this notebook you'll create your own bootstrap function following the bootstrap algorithm (check the lecture notes!)"
      ]
    },
    {
      "cell_type": "code",
      "metadata": {
        "id": "LY5zujI2YC37",
        "pycharm": {
          "name": "#%%# Imports\n"
        }
      },
      "source": [
        "import matplotlib\n",
        "import pandas as pd\n",
        "import seaborn as sns\n",
        "import numpy as np\n",
        "\n"
      ],
      "execution_count": 1,
      "outputs": []
    },
    {
      "cell_type": "code",
      "metadata": {
        "id": "Eqkwj4SMY38t"
      },
      "source": [
        "# Load the data\n",
        "df = pd.read_csv('https://raw.githubusercontent.com/albanda/CE888/master/lab2%20-%20bootstrap/customers.csv')\n",
        "data = df.values.T[1]"
      ],
      "execution_count": 10,
      "outputs": []
    },
    {
      "cell_type": "code",
      "metadata": {
        "id": "Gxvc_bScYC4H",
        "pycharm": {
          "name": "#%%\n"
        }
      },
      "source": [
        "# Checking the notes from the lecture, create here your own bootstrap function:\n",
        "# 1. Sample from the input array x to create an array of samples of shape (n_bootstraps, sample_size)\n",
        "# Hint: Check the function random.choice() on Numpy\n",
        "# 2. Calculate and save the mean of the array (this is \"data_mean\" that is returned by the function)\n",
        "# 3. Calculate the mean from each bootstrap (i.e., row) and store it.\n",
        "# (This should be an array of n_bootstraps values)\n",
        "# 4. Calculate the lower and upper bounds for a 95% CI (hint: check the percentile function on Numpy)\n",
        "# 5. Return data_mean, and the lower and upper bounds of your interval\n",
        "def bootstrap_mean(x, sample_size, n_bootstraps):\n",
        "  data = []\n",
        "  for i in range(0, n_bootstraps):\n",
        "    arr = []\n",
        "    arr = (np.random.choice(x, size=sample_size, replace=True))\n",
        "    data.append(arr.mean())\n",
        "  data_mean = np.array(data).mean()  \n",
        "  lower = np.percentile(data, 2.5)\n",
        "  upper = np.percentile(data, 97.5)\n",
        "  # print(\"\\t %f \\t %f \\t %f\" %(data_mean, lower,upper))\n",
        "  return data_mean, lower, upper\n"
      ],
      "execution_count": 3,
      "outputs": []
    },
    {
      "cell_type": "code",
      "metadata": {
        "id": "AN7sEOcMYC4P",
        "pycharm": {
          "name": "#%%\n"
        },
        "colab": {
          "base_uri": "https://localhost:8080/",
          "height": 454
        },
        "outputId": "24a2b53b-6045-4d77-e93e-359595620007"
      },
      "source": [
        "# Call your bootstrap function and plot the results\n",
        "\n",
        "boots = []\n",
        "for i in range(100, 50000, 1000):\n",
        "    boot = bootstrap_mean(data, data.shape[0], i)\n",
        "    boots.append([i, boot[0], \"mean\"])\n",
        "    boots.append([i, boot[1], \"lower\"])\n",
        "    boots.append([i, boot[2], \"upper\"])\n",
        "\n",
        "df_boot = pd.DataFrame(boots, columns=['Bootstrap Iterations', 'Mean', \"Value\"])\n",
        "sns_plot = sns.lmplot(df_boot.columns[0], df_boot.columns[1], data=df_boot, fit_reg=False, hue=\"Value\")\n",
        "\n",
        "sns_plot.axes[0, 0].set_ylim(0,)\n",
        "sns_plot.axes[0, 0].set_xlim(0, 100000)\n"
      ],
      "execution_count": 4,
      "outputs": [
        {
          "output_type": "stream",
          "text": [
            "/usr/local/lib/python3.6/dist-packages/seaborn/_decorators.py:43: FutureWarning: Pass the following variables as keyword args: x, y. From version 0.12, the only valid positional argument will be `data`, and passing other arguments without an explicit keyword will result in an error or misinterpretation.\n",
            "  FutureWarning\n"
          ],
          "name": "stderr"
        },
        {
          "output_type": "execute_result",
          "data": {
            "text/plain": [
              "(0.0, 100000.0)"
            ]
          },
          "metadata": {
            "tags": []
          },
          "execution_count": 4
        },
        {
          "output_type": "display_data",
          "data": {
            "image/png": "[encoded data removed]",
            "text/plain": [
              "<Figure size 425.125x360 with 1 Axes>"
            ]
          },
          "metadata": {
            "tags": [],
            "needs_background": "light"
          }
        }
      ]
    },
    {
      "cell_type": "markdown",
      "metadata": {
        "id": "MjtP4e2_YC4V"
      },
      "source": [
        "\n",
        "Now, modify the bootstrap function you created above so that you can pass your desired confidence interval as a parameter.\n",
        "\n"
      ]
    },
    {
      "cell_type": "code",
      "metadata": {
        "id": "3K9j0FuGYhHs"
      },
      "source": [
        "def bootstrap_mean_ci(sample, sample_size, n_bootstraps, ci):\n",
        "  data = []\n",
        "  val = (100-ci)/2\n",
        "  for i in range(0, n_bootstraps):\n",
        "    arr = []\n",
        "    arr = np.sort(np.random.choice(sample, size=sample_size, replace=True))\n",
        "    data.append(arr.mean())\n",
        "  data_mean = np.array(data).mean()\n",
        "  lower = (np.percentile(data, val))\n",
        "  upper = (np.percentile(data, 100-val)) \n",
        "  return data_mean, lower, upper"
      ],
      "execution_count": 9,
      "outputs": []
    },
    {
      "cell_type": "code",
      "metadata": {
        "id": "uDnjq08GYl-C",
        "colab": {
          "base_uri": "https://localhost:8080/",
          "height": 454
        },
        "outputId": "87dbd7e8-2d1b-415d-a488-92fb9e703eff"
      },
      "source": [
        "boots = []\n",
        "for i in range(100, 50000, 1000):\n",
        "    boot = bootstrap_mean_ci(data, data.shape[0], i, 80)\n",
        "    boots.append([i, boot[0], \"mean\"])\n",
        "    boots.append([i, boot[1], \"lower\"])\n",
        "    boots.append([i, boot[2], \"upper\"])\n",
        "\n",
        "df_boot = pd.DataFrame(boots, columns=['Boostrap Iterations', 'Mean', \"Value\"])\n",
        "sns_plot = sns.lmplot(df_boot.columns[0], df_boot.columns[1], data=df_boot, fit_reg=False, hue=\"Value\")\n",
        "\n",
        "sns_plot.axes[0, 0].set_ylim(0,)\n",
        "sns_plot.axes[0, 0].set_xlim(0, 100000)\n",
        "\n",
        "#sns_plot.savefig(\"bootstrap_confidence_80.pdf\", bbox_inches='tight')\n"
      ],
      "execution_count": 6,
      "outputs": [
        {
          "output_type": "stream",
          "text": [
            "/usr/local/lib/python3.6/dist-packages/seaborn/_decorators.py:43: FutureWarning: Pass the following variables as keyword args: x, y. From version 0.12, the only valid positional argument will be `data`, and passing other arguments without an explicit keyword will result in an error or misinterpretation.\n",
            "  FutureWarning\n"
          ],
          "name": "stderr"
        },
        {
          "output_type": "execute_result",
          "data": {
            "text/plain": [
              "(0.0, 100000.0)"
            ]
          },
          "metadata": {
            "tags": []
          },
          "execution_count": 6
        },
        {
          "output_type": "display_data",
          "data": {
            "image/png": "[encoded data removed]",
            "text/plain": [
              "<Figure size 425.125x360 with 1 Axes>"
            ]
          },
          "metadata": {
            "tags": [],
            "needs_background": "light"
          }
        }
      ]
    },
    {
      "cell_type": "markdown",
      "metadata": {
        "id": "qjNgXW6wdd7r"
      },
      "source": [
        "# Vehicles dataset\n",
        "\n",
        "Now let's work on a different dataset, which is stored in the vehicles.csv file.\n"
      ]
    },
    {
      "cell_type": "code",
      "metadata": {
        "id": "avWv4ipFdpka",
        "colab": {
          "base_uri": "https://localhost:8080/"
        },
        "outputId": "2fcc0840-d952-4a12-f7e4-815b8ff5268c"
      },
      "source": [
        "# Load and visualise the vehicles dataset\n",
        "# To load the dataset: https://neptune.ai/blog/google-colab-dealing-with-files (check section \"Load individual files directly from GitHub\")\n",
        "\n",
        "\n",
        "# Note that the current and new fleets are in different columns and have different lengths, so bear this in mind when you're plotting.\n",
        "# You can create separate scatterplots for the two fleets, as you would with the histograms, \n",
        "# or plot them both in one plot (but not one against the other).\n",
        "# Load the data\n",
        "df_vehicles = pd.read_csv('https://raw.githubusercontent.com/albanda/CE888/master/lab2%20-%20bootstrap/vehicles.csv', index_col=False)\n",
        "print(df_vehicles)\n",
        "# sns_plt = sns.lmplot(df_vehicles.columns[0], df_vehicles.columns[1], data=df_vehicles, fit_reg=False, hue=\"Value\")\n",
        "# data_vehicles = df.values.T[1]\n",
        "# Note: you can add more cells as needed to organise your code and your plots\n"
      ],
      "execution_count": 2,
      "outputs": [
        {
          "output_type": "stream",
          "text": [
            "     Current fleet  New Fleet\n",
            "0               18       24.0\n",
            "1               15       27.0\n",
            "2               18       27.0\n",
            "3               16       25.0\n",
            "4               17       31.0\n",
            "..             ...        ...\n",
            "244             27        NaN\n",
            "245             27        NaN\n",
            "246             32        NaN\n",
            "247             28        NaN\n",
            "248             31        NaN\n",
            "\n",
            "[249 rows x 2 columns]\n"
          ],
          "name": "stdout"
        }
      ]
    },
    {
      "cell_type": "code",
      "metadata": {
        "id": "Q4quCevYbpNa",
        "colab": {
          "base_uri": "https://localhost:8080/",
          "height": 624
        },
        "outputId": "6f3e571f-40f1-47aa-b6a3-f6b6d590600d"
      },
      "source": [
        "df_new_fleet = pd.DataFrame()\n",
        "df_new_fleet['length'] = df_vehicles['New Fleet'].dropna()\n",
        "df_new_fleet['fleet'] = 'new'\n",
        "\n",
        "df_current_fleet = pd.DataFrame()\n",
        "df_current_fleet['length'] = df_vehicles['Current fleet'].dropna()\n",
        "df_current_fleet['fleet'] = 'current'\n",
        "\n",
        "df_fleet = df_current_fleet.append(df_new_fleet, ignore_index=True)\n",
        "print(df_fleet)\n",
        "\n",
        "sns.displot(df_fleet, x=\"length\", hue='fleet')\n"
      ],
      "execution_count": 3,
      "outputs": [
        {
          "output_type": "stream",
          "text": [
            "     length    fleet\n",
            "0      18.0  current\n",
            "1      15.0  current\n",
            "2      18.0  current\n",
            "3      16.0  current\n",
            "4      17.0  current\n",
            "..      ...      ...\n",
            "323    34.0      new\n",
            "324    38.0      new\n",
            "325    32.0      new\n",
            "326    38.0      new\n",
            "327    32.0      new\n",
            "\n",
            "[328 rows x 2 columns]\n"
          ],
          "name": "stdout"
        },
        {
          "output_type": "execute_result",
          "data": {
            "text/plain": [
              "<seaborn.axisgrid.FacetGrid at 0x7f577b82fcf8>"
            ]
          },
          "metadata": {
            "tags": []
          },
          "execution_count": 3
        },
        {
          "output_type": "display_data",
          "data": {
            "image/png": "[encoded data removed]",
            "text/plain": [
              "<Figure size 432.125x360 with 1 Axes>"
            ]
          },
          "metadata": {
            "tags": [],
            "needs_background": "light"
          }
        }
      ]
    },
    {
      "cell_type": "markdown",
      "metadata": {
        "id": "B5d0tXDpIEj8"
      },
      "source": [
        "## Compare the two fleets\r\n",
        "\r\n",
        "The business analysts come up a comparison algorithm that requires the upper and lower bounds for the mean in order to say which fleet is better.\r\n",
        "1. Calculate the mean of both samples.\r\n",
        "2. Using the bootstrap function that you created:\r\n",
        "    - Construct the 95% CI of the mean of the current fleet.\r\n",
        "    - Construct the 95% CI of the mean of the new fleet.\r\n",
        "    - Are they comparable? (i.e., is one better than the other?) -- you can do this with a permutation test (check the lecture notes!)"
      ]
    },
    {
      "cell_type": "code",
      "metadata": {
        "id": "po4mp6zRHC0m",
        "colab": {
          "base_uri": "https://localhost:8080/"
        },
        "outputId": "00415637-b914-474c-f248-feb30d2eb3a7"
      },
      "source": [
        "# <---INSERT YOUR CODE HERE--->\n",
        "fleet_current = df_vehicles['Current fleet'].to_numpy()\n",
        "fleet_new = df_vehicles['New Fleet'].dropna().to_numpy()\n",
        "\n",
        "print(\"Size of current fleet : %d\" %len(fleet_current))\n",
        "print(\"Size of new fleet : %d\" %len(fleet_new))\n",
        "\n",
        "fleet_new_mean = fleet_new.mean()\n",
        "fleet_current_mean = fleet_current.mean()\n",
        "\n",
        "print(\"Mean of current fleet : %d\" %(fleet_current_mean))\n",
        "print(\"Mean of new fleet : %d\" %(fleet_new_mean))\n",
        "\n",
        "boot_current = (bootstrap_mean_ci(fleet_current, len(fleet_current), 50000, 95))\n",
        "boot_new = (bootstrap_mean_ci(fleet_new, len(fleet_new), 50000, 95))\n",
        "\n",
        "\n",
        "print(boot_current)\n",
        "print(boot_new)\n",
        "\n",
        "\n",
        "\n",
        "print(permut_test(fleet_current, fleet_new, 5000))"
      ],
      "execution_count": 11,
      "outputs": [
        {
          "output_type": "stream",
          "text": [
            "Size of current fleet : 249\n",
            "Size of new fleet : 79\n",
            "Mean of current fleet : 20\n",
            "Mean of new fleet : 30\n",
            "(20.142514939759035, 19.3574297188755, 20.955823293172692)\n",
            "(30.481474936708864, 29.139240506329113, 31.810126582278482)\n",
            "0.4884\n"
          ],
          "name": "stdout"
        }
      ]
    },
    {
      "cell_type": "code",
      "metadata": {
        "id": "MkxvDZG4HC0n"
      },
      "source": [
        "# Create your own function for a permutation test here (you will need it for the lab quiz!):\n",
        "def permut_test(sample1, sample2, n_permutations):\n",
        "  counter = 0\n",
        "  concat = np.concatenate((sample1, sample2))\n",
        "  for i in range(1, n_permutations):\n",
        "    perm  = np.random.permutation(concat)\n",
        "    p_sample1 = perm[:(len(sample1))]\n",
        "    p_sample2 = perm[(len(sample2)):]\n",
        "    if p_sample1.mean() > p_sample2.mean():\n",
        "      counter = counter +1\n",
        "  pvalue = counter/n_permutations    \n",
        "  return pvalue"
      ],
      "execution_count": 6,
      "outputs": []
    }
  ]
}