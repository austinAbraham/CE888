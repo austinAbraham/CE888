{
  "nbformat": 4,
  "nbformat_minor": 0,
  "metadata": {
    "colab": {
      "name": "bank_classification.ipynb",
      "provenance": [],
      "authorship_tag": "ABX9TyNlsVvfH1BoEYeILVOHBxn5",
      "include_colab_link": true
    },
    "kernelspec": {
      "name": "python3",
      "display_name": "Python 3"
    },
    "accelerator": "GPU"
  },
  "cells": [
    {
      "cell_type": "markdown",
      "metadata": {
        "id": "view-in-github",
        "colab_type": "text"
      },
      "source": [
        "<a href=\"https://colab.research.google.com/github/austinAbraham/CE888/blob/development/Lab3/bank_classification.ipynb\" target=\"_parent\"><img src=\"https://colab.research.google.com/assets/colab-badge.svg\" alt=\"Open In Colab\"/></a>"
      ]
    },
    {
      "cell_type": "code",
      "metadata": {
        "id": "gkm_FvJw1L7U"
      },
      "source": [
        "%matplotlib inline\n",
        "import matplotlib\n",
        "import numpy as np\n",
        "import matplotlib.pyplot as plt\n",
        "import pandas as pd\n",
        "import seaborn as sns\n",
        "import itertools\n",
        "import sklearn\n",
        "\n",
        "from sklearn.tree import DecisionTreeRegressor\n",
        "from sklearn.ensemble import RandomForestClassifier, ExtraTreesClassifier\n",
        "from sklearn.model_selection import cross_val_score, train_test_split, GridSearchCV\n",
        "from sklearn.feature_selection import RFECV\n",
        "from sklearn.metrics import mean_squared_error as mse\n",
        "from sklearn.metrics import mean_absolute_error as mae\n",
        "from sklearn.metrics import accuracy_score as acc \n",
        "from sklearn.model_selection import cross_val_score\n",
        "from sklearn.metrics import make_scorer, confusion_matrix\n",
        "from sklearn.dummy import DummyRegressor, DummyClassifier\n",
        "from sklearn.preprocessing import LabelEncoder"
      ],
      "execution_count": 1,
      "outputs": []
    },
    {
      "cell_type": "code",
      "metadata": {
        "id": "MsEL5i0q1VHN"
      },
      "source": [
        "df = pd.read_csv(\"https://raw.githubusercontent.com/albanda/CE888/master/lab3/bank-additional-full.csv\", delimiter = \";\")\n",
        "\n",
        "categorical_features = [\"job\", \"marital\", \"education\", \"default\", \"housing\", \"loan\", \"contact\", \"month\", \"day_of_week\", \"poutcome\"]\n",
        "\n",
        "df_dummies = pd.get_dummies(df, columns=categorical_features ).drop('duration', axis =1).dropna(axis=0)\n",
        "\n",
        "df_dummies[['y']] =  df_dummies[['y']].apply(LabelEncoder().fit_transform)\n",
        "\n",
        "x_df =df_dummies.drop(\"y\", axis=1)\n",
        "y_df =df_dummies[\"y\"]"
      ],
      "execution_count": 2,
      "outputs": []
    },
    {
      "cell_type": "code",
      "metadata": {
        "id": "nubmuO-U8ghe"
      },
      "source": [
        "X_train, X_test, Y_train, Y_test = train_test_split(x_df, y_df, random_state=50, test_size=.2, stratify=y_df)"
      ],
      "execution_count": 3,
      "outputs": []
    },
    {
      "cell_type": "code",
      "metadata": {
        "id": "RvTXezXYBVfQ",
        "colab": {
          "base_uri": "https://localhost:8080/",
          "height": 296
        },
        "outputId": "8276a849-6b2a-4a18-a663-6d135555ecc1"
      },
      "source": [
        "#plotting the imbalance in data\n",
        "\n",
        "sns.histplot(data = df_dummies, x= \"y\")\n"
      ],
      "execution_count": 4,
      "outputs": [
        {
          "output_type": "execute_result",
          "data": {
            "text/plain": [
              "<matplotlib.axes._subplots.AxesSubplot at 0x7f5891aae490>"
            ]
          },
          "metadata": {
            "tags": []
          },
          "execution_count": 4
        },
        {
          "output_type": "display_data",
          "data": {
            "image/png": "[encoded data removed]",
            "text/plain": [
              "<Figure size 432x288 with 1 Axes>"
            ]
          },
          "metadata": {
            "tags": [],
            "needs_background": "light"
          }
        }
      ]
    },
    {
      "cell_type": "code",
      "metadata": {
        "colab": {
          "base_uri": "https://localhost:8080/"
        },
        "id": "aKf9Zx981rzD",
        "outputId": "756a8cd3-cab0-435a-ff63-7177ec681056"
      },
      "source": [
        "model = RandomForestClassifier(n_estimators=100, max_depth=3, random_state=50).fit(X_train, Y_train)\n",
        "\n",
        "scores = cross_val_score(model, X_test, Y_test, cv=10, scoring='f1')\n",
        "print(\"Initial : \"+str(scores))\n",
        "\n",
        "#Compare the results of your classifier with that of a dummy classifier.\n",
        "dummy_clf = DummyClassifier(strategy='stratified')\n",
        "dummy_clf.fit(X_train,Y_train)\n",
        "\n",
        "scores = cross_val_score(dummy_clf, X_test, Y_test, cv=10, scoring='f1')\n",
        "print(\"Dummy : \"+str(scores))\n"
      ],
      "execution_count": 5,
      "outputs": [
        {
          "output_type": "stream",
          "text": [
            "Initial : [0.17857143 0.3902439  0.26548673 0.29059829 0.29059829 0.28813559\n",
            " 0.37704918 0.19298246 0.29090909 0.29565217]\n",
            "Dummy : [0.09944751 0.09142857 0.10344828 0.13043478 0.11494253 0.14778325\n",
            " 0.15873016 0.10465116 0.17592593 0.11428571]\n"
          ],
          "name": "stdout"
        }
      ]
    },
    {
      "cell_type": "code",
      "metadata": {
        "colab": {
          "base_uri": "https://localhost:8080/"
        },
        "id": "lWVHCqaEKQ42",
        "outputId": "af61cb5f-e1a2-439e-fc56-423affab04b6"
      },
      "source": [
        "# Number of trees in random forest\n",
        "n_estimators = [80, 100, 120]\n",
        "\n",
        "# Maximum number of levels in tree\n",
        "max_depth = [5, 10, 20]\n",
        "# max_depth.append(None)\n",
        "# Minimum number of samples required to split a node\n",
        "min_samples_split = [2, 5, 10]\n",
        "# Minimum number of samples required at each leaf node\n",
        "min_samples_leaf = [1, 2]\n",
        "\n",
        "# Create the random grid\n",
        "param_grid = {'n_estimators': n_estimators,\n",
        "              #  'max_features': max_features,\n",
        "               'max_depth': max_depth,\n",
        "               'min_samples_split': min_samples_split,\n",
        "               'min_samples_leaf': min_samples_leaf,\n",
        "              'random_state':[50]\n",
        "              #  'bootstrap': bootstrap\n",
        "              }\n",
        "\n",
        "print(param_grid)"
      ],
      "execution_count": 6,
      "outputs": [
        {
          "output_type": "stream",
          "text": [
            "{'n_estimators': [80, 100, 120], 'max_depth': [5, 10, 20], 'min_samples_split': [2, 5, 10], 'min_samples_leaf': [1, 2], 'random_state': [50]}\n"
          ],
          "name": "stdout"
        }
      ]
    },
    {
      "cell_type": "code",
      "metadata": {
        "id": "wOlaaiD0LrE2",
        "colab": {
          "base_uri": "https://localhost:8080/"
        },
        "outputId": "e1a2935d-fa9c-4472-b4ff-1f8d96dbec25"
      },
      "source": [
        "\n",
        "clf = GridSearchCV(RandomForestClassifier(), param_grid)\n",
        "clf.fit(X_train, Y_train)\n"
      ],
      "execution_count": 7,
      "outputs": [
        {
          "output_type": "execute_result",
          "data": {
            "text/plain": [
              "GridSearchCV(cv=None, error_score=nan,\n",
              "             estimator=RandomForestClassifier(bootstrap=True, ccp_alpha=0.0,\n",
              "                                              class_weight=None,\n",
              "                                              criterion='gini', max_depth=None,\n",
              "                                              max_features='auto',\n",
              "                                              max_leaf_nodes=None,\n",
              "                                              max_samples=None,\n",
              "                                              min_impurity_decrease=0.0,\n",
              "                                              min_impurity_split=None,\n",
              "                                              min_samples_leaf=1,\n",
              "                                              min_samples_split=2,\n",
              "                                              min_weight_fraction_leaf=0.0,\n",
              "                                              n_estimators=100, n_jobs=None,\n",
              "                                              oob_score=False,\n",
              "                                              random_state=None, verbose=0,\n",
              "                                              warm_start=False),\n",
              "             iid='deprecated', n_jobs=None,\n",
              "             param_grid={'max_depth': [5, 10, 20], 'min_samples_leaf': [1, 2],\n",
              "                         'min_samples_split': [2, 5, 10],\n",
              "                         'n_estimators': [80, 100, 120], 'random_state': [50]},\n",
              "             pre_dispatch='2*n_jobs', refit=True, return_train_score=False,\n",
              "             scoring=None, verbose=0)"
            ]
          },
          "metadata": {
            "tags": []
          },
          "execution_count": 7
        }
      ]
    },
    {
      "cell_type": "code",
      "metadata": {
        "colab": {
          "base_uri": "https://localhost:8080/"
        },
        "id": "dsJDY8tJ6UFh",
        "outputId": "04e555dc-79ab-4703-8c6e-1a826aa6f76d"
      },
      "source": [
        "clf.best_params_"
      ],
      "execution_count": 8,
      "outputs": [
        {
          "output_type": "execute_result",
          "data": {
            "text/plain": [
              "{'max_depth': 10,\n",
              " 'min_samples_leaf': 2,\n",
              " 'min_samples_split': 10,\n",
              " 'n_estimators': 120,\n",
              " 'random_state': 50}"
            ]
          },
          "metadata": {
            "tags": []
          },
          "execution_count": 8
        }
      ]
    },
    {
      "cell_type": "code",
      "metadata": {
        "colab": {
          "base_uri": "https://localhost:8080/"
        },
        "id": "HT_geZWpCDNs",
        "outputId": "5e987368-cb21-44fc-d9df-5a135107d92a"
      },
      "source": [
        "clf.best_estimator_"
      ],
      "execution_count": 9,
      "outputs": [
        {
          "output_type": "execute_result",
          "data": {
            "text/plain": [
              "RandomForestClassifier(bootstrap=True, ccp_alpha=0.0, class_weight=None,\n",
              "                       criterion='gini', max_depth=10, max_features='auto',\n",
              "                       max_leaf_nodes=None, max_samples=None,\n",
              "                       min_impurity_decrease=0.0, min_impurity_split=None,\n",
              "                       min_samples_leaf=2, min_samples_split=10,\n",
              "                       min_weight_fraction_leaf=0.0, n_estimators=120,\n",
              "                       n_jobs=None, oob_score=False, random_state=50, verbose=0,\n",
              "                       warm_start=False)"
            ]
          },
          "metadata": {
            "tags": []
          },
          "execution_count": 9
        }
      ]
    },
    {
      "cell_type": "code",
      "metadata": {
        "id": "lix3ESZSC-qa"
      },
      "source": [
        "model_best = RandomForestClassifier(max_depth=10, min_samples_leaf= 1, min_samples_split= 10, n_estimators= 100).fit(X_train, Y_train)\n"
      ],
      "execution_count": 10,
      "outputs": []
    },
    {
      "cell_type": "code",
      "metadata": {
        "colab": {
          "base_uri": "https://localhost:8080/",
          "height": 214
        },
        "id": "dfdUG9F7E-VU",
        "outputId": "656f8c5f-979d-4830-816d-81f2658e4637"
      },
      "source": [
        "initial_model_scores = cross_val_score(model, X_train, Y_train, random_state=50, scoring='accuracy')\n",
        "best_model_scores = cross_val_score(model_best, X_train, Y_train, random_state=50, scoring='accuracy')\n",
        "print(\"Cross Val for initial model :\"+ str(sum(initial_model_scores)/len(initial_model_scores)))\n",
        "print(\"Cross Val for optimised model :\"+ str(sum(best_model_scores)/len(best_model_scores)))"
      ],
      "execution_count": 11,
      "outputs": [
        {
          "output_type": "error",
          "ename": "TypeError",
          "evalue": "ignored",
          "traceback": [
            "\u001b[0;31m---------------------------------------------------------------------------\u001b[0m",
            "\u001b[0;31mTypeError\u001b[0m                                 Traceback (most recent call last)",
            "\u001b[0;32m<ipython-input-11-0928ad9459c6>\u001b[0m in \u001b[0;36m<module>\u001b[0;34m()\u001b[0m\n\u001b[0;32m----> 1\u001b[0;31m \u001b[0minitial_model_scores\u001b[0m \u001b[0;34m=\u001b[0m \u001b[0mcross_val_score\u001b[0m\u001b[0;34m(\u001b[0m\u001b[0mmodel\u001b[0m\u001b[0;34m,\u001b[0m \u001b[0mX_train\u001b[0m\u001b[0;34m,\u001b[0m \u001b[0mY_train\u001b[0m\u001b[0;34m,\u001b[0m \u001b[0mrandom_state\u001b[0m\u001b[0;34m=\u001b[0m\u001b[0;36m50\u001b[0m\u001b[0;34m,\u001b[0m \u001b[0mscoring\u001b[0m\u001b[0;34m=\u001b[0m\u001b[0;34m'f1'\u001b[0m\u001b[0;34m)\u001b[0m\u001b[0;34m\u001b[0m\u001b[0;34m\u001b[0m\u001b[0m\n\u001b[0m\u001b[1;32m      2\u001b[0m \u001b[0mbest_model_scores\u001b[0m \u001b[0;34m=\u001b[0m \u001b[0mcross_val_score\u001b[0m\u001b[0;34m(\u001b[0m\u001b[0mmodel_best\u001b[0m\u001b[0;34m,\u001b[0m \u001b[0mX_train\u001b[0m\u001b[0;34m,\u001b[0m \u001b[0mY_train\u001b[0m\u001b[0;34m,\u001b[0m \u001b[0mrandom_state\u001b[0m\u001b[0;34m=\u001b[0m\u001b[0;36m50\u001b[0m\u001b[0;34m,\u001b[0m \u001b[0mscoring\u001b[0m\u001b[0;34m=\u001b[0m\u001b[0;34m'f1'\u001b[0m\u001b[0;34m)\u001b[0m\u001b[0;34m\u001b[0m\u001b[0;34m\u001b[0m\u001b[0m\n\u001b[1;32m      3\u001b[0m \u001b[0mprint\u001b[0m\u001b[0;34m(\u001b[0m\u001b[0;34m\"Cross Val for initial model :\"\u001b[0m\u001b[0;34m+\u001b[0m \u001b[0mstr\u001b[0m\u001b[0;34m(\u001b[0m\u001b[0msum\u001b[0m\u001b[0;34m(\u001b[0m\u001b[0minitial_model_scores\u001b[0m\u001b[0;34m)\u001b[0m\u001b[0;34m/\u001b[0m\u001b[0mlen\u001b[0m\u001b[0;34m(\u001b[0m\u001b[0minitial_model_scores\u001b[0m\u001b[0;34m)\u001b[0m\u001b[0;34m)\u001b[0m\u001b[0;34m)\u001b[0m\u001b[0;34m\u001b[0m\u001b[0;34m\u001b[0m\u001b[0m\n\u001b[1;32m      4\u001b[0m \u001b[0mprint\u001b[0m\u001b[0;34m(\u001b[0m\u001b[0;34m\"Cross Val for optimised model :\"\u001b[0m\u001b[0;34m+\u001b[0m \u001b[0mstr\u001b[0m\u001b[0;34m(\u001b[0m\u001b[0msum\u001b[0m\u001b[0;34m(\u001b[0m\u001b[0mbest_model_scores\u001b[0m\u001b[0;34m)\u001b[0m\u001b[0;34m/\u001b[0m\u001b[0mlen\u001b[0m\u001b[0;34m(\u001b[0m\u001b[0mbest_model_scores\u001b[0m\u001b[0;34m)\u001b[0m\u001b[0;34m)\u001b[0m\u001b[0;34m)\u001b[0m\u001b[0;34m\u001b[0m\u001b[0;34m\u001b[0m\u001b[0m\n",
            "\u001b[0;31mTypeError\u001b[0m: cross_val_score() got an unexpected keyword argument 'random_state'"
          ]
        }
      ]
    },
    {
      "cell_type": "code",
      "metadata": {
        "colab": {
          "base_uri": "https://localhost:8080/"
        },
        "id": "Zir2sdKUC-vJ",
        "outputId": "84e222b2-42ef-454a-8c7e-7d4d9eb5c145"
      },
      "source": [
        "rfecv = RFECV(estimator=model_best, \n",
        "              step=1, \n",
        "              cv=5, \n",
        "              scoring = 'roc_auc')\n",
        "rfecv.fit(X_train, Y_train)\n",
        "rfecv\n",
        "rfecv.ranking_"
      ],
      "execution_count": 18,
      "outputs": [
        {
          "output_type": "execute_result",
          "data": {
            "text/plain": [
              "array([ 1,  1,  1,  1,  1,  1,  1,  1,  1,  7, 12, 40, 36, 30, 13, 25, 27,\n",
              "       23,  3, 34, 38, 28, 15,  4, 42, 26, 32, 19, 11, 43, 18,  1, 24, 14,\n",
              "       21, 44,  6, 41, 16,  8, 37, 22,  1,  1,  9, 29, 39, 31, 20,  1,  1,\n",
              "       35,  1, 33,  5,  1,  1, 10, 17,  1,  2,  1])"
            ]
          },
          "metadata": {
            "tags": []
          },
          "execution_count": 18
        }
      ]
    },
    {
      "cell_type": "code",
      "metadata": {
        "id": "9TsGOPCaCI6x"
      },
      "source": [
        "rfecv.ranking_\n",
        "best_features = list(np.where(rfecv.ranking_ == 1))"
      ],
      "execution_count": 19,
      "outputs": []
    },
    {
      "cell_type": "code",
      "metadata": {
        "colab": {
          "base_uri": "https://localhost:8080/"
        },
        "id": "pLLooKf3Nc6O",
        "outputId": "b9b837c2-8921-47be-ab20-e5dd4d5e912d"
      },
      "source": [
        "cols = X_train.columns\n",
        "top = cols[best_features]\n",
        "print(\"Top features are : \"+ top[:3])"
      ],
      "execution_count": 21,
      "outputs": [
        {
          "output_type": "stream",
          "text": [
            "Index(['Top features are : age', 'Top features are : campaign',\n",
            "       'Top features are : pdays'],\n",
            "      dtype='object')\n"
          ],
          "name": "stdout"
        },
        {
          "output_type": "stream",
          "text": [
            "/usr/local/lib/python3.7/dist-packages/pandas/core/indexes/base.py:4114: FutureWarning: Using a non-tuple sequence for multidimensional indexing is deprecated; use `arr[tuple(seq)]` instead of `arr[seq]`. In the future this will be interpreted as an array index, `arr[np.array(seq)]`, which will result either in an error or a different result.\n",
            "  result = getitem(key)\n"
          ],
          "name": "stderr"
        }
      ]
    },
    {
      "cell_type": "code",
      "metadata": {
        "id": "NdYudsX4usOe"
      },
      "source": [
        ""
      ],
      "execution_count": 12,
      "outputs": []
    },
    {
      "cell_type": "code",
      "metadata": {
        "colab": {
          "base_uri": "https://localhost:8080/"
        },
        "id": "It2RYjqOvAHS",
        "outputId": "cd8c3e39-1718-4d86-aa95-9f03c69b9c7b"
      },
      "source": [
        "model_quiz_6 = RandomForestClassifier(n_estimators=400, max_depth=6, random_state=50).fit(X_train, Y_train)\n",
        "\n",
        "scores = cross_val_score(model, X_test, Y_test, cv=10, scoring='f1')\n",
        "print(\"Initial : \"+str(round(sum(scores)/len(scores), 2)))"
      ],
      "execution_count": 22,
      "outputs": [
        {
          "output_type": "stream",
          "text": [
            "Initial : 0.29\n"
          ],
          "name": "stdout"
        }
      ]
    },
    {
      "cell_type": "code",
      "metadata": {
        "id": "hGltS-TOwTjY",
        "outputId": "a3fcdca6-f2f4-4b21-9a8d-89eac996f902",
        "colab": {
          "base_uri": "https://localhost:8080/"
        }
      },
      "source": [
        "model_quiz_6 = RandomForestClassifier(n_estimators=100, max_depth=8, random_state=50).fit(X_train, Y_train)\n",
        "\n",
        "scores = cross_val_score(model, X_test, Y_test, cv=10, scoring='f1')\n",
        "print(\"Initial : \"+str(round(sum(scores)/len(scores), 2)))"
      ],
      "execution_count": 23,
      "outputs": [
        {
          "output_type": "stream",
          "text": [
            "Initial : 0.29\n"
          ],
          "name": "stdout"
        }
      ]
    },
    {
      "cell_type": "code",
      "metadata": {
        "id": "KTJbMV-GwWDj"
      },
      "source": [
        ""
      ],
      "execution_count": null,
      "outputs": []
    }
  ]
}